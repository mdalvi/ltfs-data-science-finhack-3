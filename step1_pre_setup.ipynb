{
  "nbformat": 4,
  "nbformat_minor": 0,
  "metadata": {
    "kernelspec": {
      "display_name": "Python 3",
      "language": "python",
      "name": "python3"
    },
    "language_info": {
      "codemirror_mode": {
        "name": "ipython",
        "version": 3
      },
      "file_extension": ".py",
      "mimetype": "text/x-python",
      "name": "python",
      "nbconvert_exporter": "python",
      "pygments_lexer": "ipython3",
      "version": "3.7.6"
    },
    "colab": {
      "name": "step1-pre-setup.ipynb",
      "provenance": []
    }
  },
  "cells": [
    {
      "cell_type": "markdown",
      "metadata": {
        "id": "bnjmFZLExdrd"
      },
      "source": [
        "# Pre-Setup"
      ]
    },
    {
      "cell_type": "code",
      "metadata": {
        "id": "3fG7xnCPxdro"
      },
      "source": [
        "%reload_ext autoreload\n",
        "%autoreload 2\n",
        "%matplotlib inline"
      ],
      "execution_count": 5,
      "outputs": []
    },
    {
      "cell_type": "code",
      "metadata": {
        "colab": {
          "base_uri": "https://localhost:8080/"
        },
        "id": "UJIUT3tbxmt5",
        "outputId": "c7c1b89a-b26a-4491-bf07-f9ce44b46584"
      },
      "source": [
        "# !pip install --upgrade --no-cache-dir catboost\r\n",
        "# !pip install --upgrade --no-cache-dir seaborn\r\n",
        "# !pip install --upgrade --no-cache-dir featuretools\r\n",
        "# !pip install --upgrade --no-cache-dir xgboost\r\n",
        "# !pip install --upgrade --no-cache-dir lightgbm\r\n",
        "# !pip install --upgrade --no-cache-dir tqdm\r\n",
        "# !pip install --upgrade --no-cache-dir psutil\r\n",
        "# !pip install --upgrade --no-cache-dir openpyxl\r\n",
        "# !pip install --upgrade --no-cache-dir category_encoders"
      ],
      "execution_count": 32,
      "outputs": [
        {
          "output_type": "stream",
          "text": [
            "Collecting category_encoders\n",
            "\u001b[?25l  Downloading https://files.pythonhosted.org/packages/44/57/fcef41c248701ee62e8325026b90c432adea35555cbc870aff9cfba23727/category_encoders-2.2.2-py2.py3-none-any.whl (80kB)\n",
            "\r\u001b[K     |████                            | 10kB 9.9MB/s eta 0:00:01\r\u001b[K     |████████▏                       | 20kB 14.9MB/s eta 0:00:01\r\u001b[K     |████████████▏                   | 30kB 9.8MB/s eta 0:00:01\r\u001b[K     |████████████████▎               | 40kB 9.6MB/s eta 0:00:01\r\u001b[K     |████████████████████▎           | 51kB 5.5MB/s eta 0:00:01\r\u001b[K     |████████████████████████▍       | 61kB 4.9MB/s eta 0:00:01\r\u001b[K     |████████████████████████████▍   | 71kB 5.5MB/s eta 0:00:01\r\u001b[K     |████████████████████████████████| 81kB 5.9MB/s \n",
            "\u001b[?25hRequirement already satisfied, skipping upgrade: pandas>=0.21.1 in /usr/local/lib/python3.6/dist-packages (from category_encoders) (1.1.5)\n",
            "Requirement already satisfied, skipping upgrade: scikit-learn>=0.20.0 in /usr/local/lib/python3.6/dist-packages (from category_encoders) (0.22.2.post1)\n",
            "Requirement already satisfied, skipping upgrade: scipy>=1.0.0 in /usr/local/lib/python3.6/dist-packages (from category_encoders) (1.4.1)\n",
            "Requirement already satisfied, skipping upgrade: patsy>=0.5.1 in /usr/local/lib/python3.6/dist-packages (from category_encoders) (0.5.1)\n",
            "Requirement already satisfied, skipping upgrade: numpy>=1.14.0 in /usr/local/lib/python3.6/dist-packages (from category_encoders) (1.19.5)\n",
            "Requirement already satisfied, skipping upgrade: statsmodels>=0.9.0 in /usr/local/lib/python3.6/dist-packages (from category_encoders) (0.10.2)\n",
            "Requirement already satisfied, skipping upgrade: pytz>=2017.2 in /usr/local/lib/python3.6/dist-packages (from pandas>=0.21.1->category_encoders) (2018.9)\n",
            "Requirement already satisfied, skipping upgrade: python-dateutil>=2.7.3 in /usr/local/lib/python3.6/dist-packages (from pandas>=0.21.1->category_encoders) (2.8.1)\n",
            "Requirement already satisfied, skipping upgrade: joblib>=0.11 in /usr/local/lib/python3.6/dist-packages (from scikit-learn>=0.20.0->category_encoders) (1.0.0)\n",
            "Requirement already satisfied, skipping upgrade: six in /usr/local/lib/python3.6/dist-packages (from patsy>=0.5.1->category_encoders) (1.15.0)\n",
            "Installing collected packages: category-encoders\n",
            "Successfully installed category-encoders-2.2.2\n"
          ],
          "name": "stdout"
        }
      ]
    },
    {
      "cell_type": "code",
      "metadata": {
        "id": "8TeCsKpJxdrp"
      },
      "source": [
        "import os\n",
        "import re\n",
        "import psutil\n",
        "import numpy as np\n",
        "import pandas as pd\n",
        "\n",
        "import matplotlib.pyplot as plt\n",
        "import seaborn as sns\n",
        "sns.set_style(\"whitegrid\", {'axes.grid' : False})\n",
        "\n",
        "from tqdm.notebook import tqdm\n",
        "tqdm.pandas()\n",
        "\n",
        "import featuretools as ft\n",
        "from tabulate import tabulate\n",
        "from collections import Counter\n",
        "\n",
        "import sklearn\n",
        "from sklearn.preprocessing import LabelEncoder\n",
        "from sklearn.utils.class_weight import compute_class_weight\n",
        "from sklearn.preprocessing import FunctionTransformer\n",
        "from sklearn.ensemble import ExtraTreesClassifier, RandomForestClassifier\n",
        "from sklearn.model_selection import KFold, StratifiedKFold, RepeatedStratifiedKFold, RepeatedKFold\n",
        "\n",
        "import catboost as cgb\n",
        "import xgboost as xgb\n",
        "import lightgbm as lgb\n",
        "\n",
        "from category_encoders import OrdinalEncoder"
      ],
      "execution_count": 126,
      "outputs": []
    },
    {
      "cell_type": "code",
      "metadata": {
        "id": "FuCFL1HVxdrq"
      },
      "source": [
        "assert(sklearn.__version__ == '0.22.2.post1')\n",
        "assert(cgb.__version__ == '0.24.4')\n",
        "assert(xgb.__version__ == '1.3.3')\n",
        "assert(lgb.__version__ == '3.1.1')"
      ],
      "execution_count": 15,
      "outputs": []
    },
    {
      "cell_type": "code",
      "metadata": {
        "id": "FTR2D7d3xdrq"
      },
      "source": [
        "def plot_countplot(series_):\n",
        "    \"\"\"\n",
        "    https://stackoverflow.com/questions/46623583/seaborn-countplot-order-categories-by-count\n",
        "    :param series_:\n",
        "    :return:\n",
        "    \"\"\"\n",
        "    sns.set_style(\"whitegrid\", {'axes.grid': False})\n",
        "    headers = [series_.name, 'Count', 'Percentage']\n",
        "    value_counts = series_.value_counts()\n",
        "    value_counts_norm = series_.value_counts(normalize=True)\n",
        "    table = [[\n",
        "        v, value_counts[v], round(value_counts_norm[v], 3)\n",
        "    ] for v in value_counts.index]\n",
        "    print(tabulate(table, headers, tablefmt=\"psql\"))\n",
        "    sns.countplot(y=series_, orient='horizontal', order=value_counts.index)\n",
        "\n",
        "def date_to_integer(dt_time):\n",
        "    return 10_000 * dt_time.year + 100 * dt_time.month + dt_time.day"
      ],
      "execution_count": 17,
      "outputs": []
    },
    {
      "cell_type": "code",
      "metadata": {
        "colab": {
          "base_uri": "https://localhost:8080/"
        },
        "id": "4NBX1ZpRxdrr",
        "outputId": "16dd4224-c918-4325-d8ad-23a1368213db"
      },
      "source": [
        "print(f\"Using {psutil.cpu_count()} CPU Cores...\")"
      ],
      "execution_count": 18,
      "outputs": [
        {
          "output_type": "stream",
          "text": [
            "Using 2 CPU Cores...\n"
          ],
          "name": "stdout"
        }
      ]
    },
    {
      "cell_type": "code",
      "metadata": {
        "id": "pAKQcKZrz9xu"
      },
      "source": [
        "df_test_data = pd.read_pickle('https://turingequations.com/ltfs-finhack3-data/test_Data.pkl')"
      ],
      "execution_count": 19,
      "outputs": []
    },
    {
      "cell_type": "code",
      "metadata": {
        "id": "Y4pSZKFpxdrt"
      },
      "source": [
        "df_train_data = pd.read_pickle('https://turingequations.com/ltfs-finhack3-data/train_Data.pkl')\n",
        "df_train_bureau = pd.read_pickle('https://turingequations.com/ltfs-finhack3-data/train_bureau.pkl')\n",
        "\n",
        "df_test_data = pd.read_pickle('https://turingequations.com/ltfs-finhack3-data/test_Data.pkl')\n",
        "df_test_bureau = pd.read_pickle('https://turingequations.com/ltfs-finhack3-data/test_bureau.pkl')"
      ],
      "execution_count": 21,
      "outputs": []
    },
    {
      "cell_type": "code",
      "metadata": {
        "colab": {
          "base_uri": "https://localhost:8080/"
        },
        "id": "iKuQI5Hfxdrt",
        "outputId": "5af80762-f3be-4a0b-d127-09760163a855"
      },
      "source": [
        "# (128655, 26) (560844, 25) (14745, 25) (64019, 25)\r\n",
        "print(df_train_data.shape, df_train_bureau.shape, df_test_data.shape, df_test_bureau.shape)"
      ],
      "execution_count": 22,
      "outputs": [
        {
          "output_type": "stream",
          "text": [
            "(128655, 26) (560844, 25) (14745, 25) (64019, 25)\n"
          ],
          "name": "stdout"
        }
      ]
    },
    {
      "cell_type": "code",
      "metadata": {
        "colab": {
          "base_uri": "https://localhost:8080/"
        },
        "id": "nJ-4sgczxdru",
        "outputId": "4a0d9760-ba46-4627-98b3-d81b9d24bd33"
      },
      "source": [
        "print(\"columns not in test data\", [c for c in df_train_data.columns if c not in df_test_data.columns])\n",
        "print(\"columns not in test bureau\", [c for c in df_train_bureau.columns if c not in df_test_bureau.columns])"
      ],
      "execution_count": 23,
      "outputs": [
        {
          "output_type": "stream",
          "text": [
            "columns not in test data ['Top-up Month']\n",
            "columns not in test bureau []\n"
          ],
          "name": "stdout"
        }
      ]
    },
    {
      "cell_type": "code",
      "metadata": {
        "id": "T9VlGOCPxdrv"
      },
      "source": [
        "df_train_data['source'] = 'train'\n",
        "df_train_bureau['source'] = 'train'\n",
        "df_test_data['source'] = 'test'\n",
        "df_test_bureau['source'] = 'test'"
      ],
      "execution_count": 24,
      "outputs": []
    },
    {
      "cell_type": "code",
      "metadata": {
        "id": "AWoMhvlAxdrv"
      },
      "source": [
        "df_all_data = pd.concat([df_train_data, df_test_data], axis=0)\n",
        "df_all_bureau = pd.concat([df_train_bureau, df_test_bureau], axis=0)"
      ],
      "execution_count": 129,
      "outputs": []
    },
    {
      "cell_type": "code",
      "metadata": {
        "colab": {
          "base_uri": "https://localhost:8080/",
          "height": 466
        },
        "id": "5hlT-TsHxdrw",
        "outputId": "6a2e2107-aef6-494d-b8cc-eee6d68f3597"
      },
      "source": [
        "plot_countplot(df_all_data['Top-up Month'])"
      ],
      "execution_count": 130,
      "outputs": [
        {
          "output_type": "stream",
          "text": [
            "+-------------------+---------+--------------+\n",
            "| Top-up Month      |   Count |   Percentage |\n",
            "|-------------------+---------+--------------|\n",
            "| No Top-up Service |  106677 |        0.829 |\n",
            "| > 48 Months       |    8366 |        0.065 |\n",
            "| 36-48 Months      |    3656 |        0.028 |\n",
            "| 24-30 Months      |    3492 |        0.027 |\n",
            "| 30-36 Months      |    3062 |        0.024 |\n",
            "| 18-24 Months      |    2368 |        0.018 |\n",
            "| 12-18 Months      |    1034 |        0.008 |\n",
            "+-------------------+---------+--------------+\n"
          ],
          "name": "stdout"
        },
        {
          "output_type": "display_data",
          "data": {
            "image/png": "[encoded data removed]",
            "text/plain": [
              "<Figure size 432x288 with 1 Axes>"
            ]
          },
          "metadata": {
            "tags": []
          }
        }
      ]
    },
    {
      "cell_type": "markdown",
      "metadata": {
        "id": "pFBOyCGxxdr8"
      },
      "source": [
        "# Model"
      ]
    },
    {
      "cell_type": "code",
      "metadata": {
        "id": "Jwl8lO7Mxdr9"
      },
      "source": [
        "con_cols = [\n",
        "    'Tenure',\n",
        "    'AssetCost',\n",
        "    'AmountFinance',\n",
        "    'DisbursalAmount',\n",
        "    'EMI',\n",
        "    'LTV',\n",
        "    'AGE',\n",
        "    'MonthlyIncome',\n",
        "]\n",
        "\n",
        "cat_cols = [\n",
        "    'Frequency',\n",
        "    'InstlmentMode',\n",
        "    'LoanStatus',\n",
        "    'PaymentMode',\n",
        "    'BranchID',\n",
        "    'Area',\n",
        "    'ManufacturerID',\n",
        "    'SupplierID',\n",
        "    'SEX',\n",
        "    'City',\n",
        "    'State',\n",
        "    'ZiPCODE',\n",
        "]"
      ],
      "execution_count": 131,
      "outputs": []
    },
    {
      "cell_type": "code",
      "metadata": {
        "colab": {
          "base_uri": "https://localhost:8080/"
        },
        "id": "H71DKyTxxdr9",
        "outputId": "165e874a-8966-4916-c0d5-6864c187247a"
      },
      "source": [
        "print(\"encoding target...\")\n",
        "target_encoder = LabelEncoder()\n",
        "df_all_data.loc[df_all_data['source'] == 'train', 'Top-up Month'] = target_encoder.fit_transform(df_all_data[df_all_data['source'] == 'train']['Top-up Month'])"
      ],
      "execution_count": 132,
      "outputs": [
        {
          "output_type": "stream",
          "text": [
            "encoding target...\n"
          ],
          "name": "stdout"
        }
      ]
    },
    {
      "cell_type": "code",
      "metadata": {
        "id": "A4fRHJe81v_z"
      },
      "source": [
        "oe = OrdinalEncoder(return_df=False, handle_missing='return_nan', handle_unknown='error', drop_invariant=False)\r\n",
        "df_all_data[cat_cols] = oe.fit_transform(df_all_data[cat_cols]) - 1\r\n",
        "\r\n",
        "df_all_data[cat_cols] = df_all_data[cat_cols].fillna(-1)\r\n",
        "\r\n",
        "ft = FunctionTransformer(lambda X: X.astype('int'))\r\n",
        "df_all_data[cat_cols] = ft.fit_transform(df_all_data[cat_cols])"
      ],
      "execution_count": 133,
      "outputs": []
    },
    {
      "cell_type": "code",
      "metadata": {
        "colab": {
          "base_uri": "https://localhost:8080/"
        },
        "id": "HyVYHC33xdr-",
        "outputId": "8739182f-b72a-4904-c9ea-68c9cdb3e21e"
      },
      "source": [
        "print(\"encoding date and categorical features...\")\n",
        "# for col in cat_cols:\n",
        "#   oe = OrdinalEncoder(return_df=False, handle_missing='return_nan', handle_unknown='error', drop_invariant=False)\n",
        "#   df_all_data[col] = oe.fit_transform(df_all_data[[col]]).flatten()\n",
        "        \n",
        "for col in ['DisbursalDate', 'MaturityDAte', 'AuthDate']:\n",
        "  df_all_data[col] = df_all_data[col].map(date_to_integer)"
      ],
      "execution_count": 134,
      "outputs": [
        {
          "output_type": "stream",
          "text": [
            "encoding date and categorical features...\n"
          ],
          "name": "stdout"
        }
      ]
    },
    {
      "cell_type": "code",
      "metadata": {
        "id": "5cIiDZ303hSe"
      },
      "source": [
        "df_all_data[con_cols] = df_all_data[con_cols].replace([np.inf, -np.inf], np.nan)\r\n",
        "df_all_data[cat_cols] = df_all_data[cat_cols].apply(lambda x: x.astype('category'))"
      ],
      "execution_count": 136,
      "outputs": []
    },
    {
      "cell_type": "markdown",
      "metadata": {
        "id": "p9-sQoQ0xdr_"
      },
      "source": [
        "## Modelling"
      ]
    },
    {
      "cell_type": "code",
      "metadata": {
        "id": "3ZpjAwG0xdr_"
      },
      "source": [
        "train, test = df_all_data[df_all_data['source'] == 'train'], df_all_data[df_all_data['source'] == 'test']"
      ],
      "execution_count": 137,
      "outputs": []
    },
    {
      "cell_type": "code",
      "metadata": {
        "id": "gniWkP8Nxdr_"
      },
      "source": [
        "config = dict()\n",
        "config[\"lgb_params\"] = {\n",
        "    \"num_classes\": train['Top-up Month'].unique().size,\n",
        "    \"objective\": \"multiclass\",\n",
        "    \"boosting_type\": \"gbdt\",\n",
        "    \"metric\" : \"multi_logloss\",\n",
        "    \"num_threads\" : psutil.cpu_count()\n",
        "}\n",
        "config[\"xgb_params\"] = {\n",
        "    \"num_class\": train['Top-up Month'].unique().size,\n",
        "    \"objective\": \"multi:softprob\",\n",
        "    \"eval_metric\": \"mlogloss\",\n",
        "    \"nthread\" : psutil.cpu_count()\n",
        "}\n",
        "config[\"cgb_params\"] = {\n",
        "    \"classes_count\": train['Top-up Month'].unique().size,\n",
        "    \"objective\": \"MultiClass\",\n",
        "    \"eval_metric\": \"TotalF1\",\n",
        "    \"thread_count\" : psutil.cpu_count()\n",
        "}"
      ],
      "execution_count": 138,
      "outputs": []
    },
    {
      "cell_type": "code",
      "metadata": {
        "id": "SKZdkZmZxdsA"
      },
      "source": [
        "def run_LGB(params, train, test, feature_names, n_folds=10, seed=0):\n",
        "    \"\"\"\n",
        "    https://stackoverflow.com/questions/56303572/how-can-i-solve-this-unknown-label-type-error\n",
        "    \"\"\"\n",
        "    skf = KFold(n_splits=n_folds, shuffle=True, random_state=seed)\n",
        "    X, y = train[feature_names], train['Top-up Month'].values.astype('int')\n",
        "\n",
        "    num_classes = np.unique(y).size\n",
        "    preds = np.zeros((test.shape[0], params['num_classes']))\n",
        "\n",
        "    for i, (train_index, test_index) in enumerate(skf.split(X, y)):\n",
        "        X_train, X_val = X.iloc[train_index, :], X.iloc[test_index, :]\n",
        "        y_train, y_val = y[train_index], y[test_index]\n",
        "\n",
        "        dtrain = lgb.Dataset(X_train, y_train)\n",
        "        dval = lgb.Dataset(X_val, y_val, reference=dtrain)\n",
        "\n",
        "        bst = lgb.train(\n",
        "            params=params,\n",
        "            train_set=dtrain,\n",
        "            valid_sets=[dtrain, dval],\n",
        "            valid_names=['train', 'eval'],\n",
        "            num_boost_round=30_000,\n",
        "            verbose_eval=30,\n",
        "            early_stopping_rounds=200\n",
        "        )\n",
        "\n",
        "        score_, iter_ = bst.best_score['eval']['multi_logloss'], bst.best_iteration\n",
        "        test_preds = bst.predict(test[feature_names], num_iteration=iter_)\n",
        "        preds += test_preds\n",
        "    return preds / n_folds"
      ],
      "execution_count": 139,
      "outputs": []
    },
    {
      "cell_type": "code",
      "metadata": {
        "id": "L1a_jpqoxdsD"
      },
      "source": [
        "def run_XGB(params, train, test, feature_names, n_folds = 10, seed = 0):\n",
        "    skf = KFold(n_splits=n_folds, shuffle=True, random_state=seed)\n",
        "    X, y = train[feature_names], train['Top-up Month'].values.astype('int')\n",
        "    \n",
        "    preds = np.zeros((test.shape[0], params['num_class']))\n",
        "    \n",
        "    for i, (train_index, test_index) in enumerate(skf.split(X, y)):\n",
        "        X_train, X_val = X.iloc[train_index, :], X.iloc[test_index, :]\n",
        "        y_train, y_val = y[train_index], y[test_index]\n",
        "\n",
        "        dtrain = xgb.DMatrix(data=X_train, label=y_train, missing=np.nan)\n",
        "        dval = xgb.DMatrix(data = X_val, label=y_val, missing=np.nan)\n",
        "\n",
        "        bst = xgb.train(\n",
        "                params                = params,\n",
        "                dtrain                = dtrain,\n",
        "                num_boost_round       = 30_000,\n",
        "                early_stopping_rounds = 200,\n",
        "                evals                 = [(dtrain, 'train'), (dval, 'eval')],\n",
        "                verbose_eval          = 30\n",
        "            )\n",
        "\n",
        "        score_, iter_ = bst.best_score, bst.best_iteration\n",
        "        test_preds = bst.predict(xgb.DMatrix(test[feature_names]))\n",
        "        preds += test_preds\n",
        "    return preds / n_folds"
      ],
      "execution_count": 140,
      "outputs": []
    },
    {
      "cell_type": "code",
      "metadata": {
        "id": "zaO87K9SxdsE"
      },
      "source": [
        "def run_CGB(params, train, test, feature_names, n_folds = 10, seed=0, cat_cols=None):\n",
        "    skf = KFold(n_splits=n_folds, shuffle=True, random_state=seed)\n",
        "    X, y = train[feature_names], train['Top-up Month'].values.astype('int')\n",
        "    \n",
        "    preds = np.zeros((test.shape[0], params['classes_count']))\n",
        "    \n",
        "    for i, (train_index, test_index) in enumerate(skf.split(X, y)):\n",
        "        X_train, X_val = X.iloc[train_index, :], X.iloc[test_index, :]\n",
        "        y_train, y_val = y[train_index], y[test_index]\n",
        "\n",
        "        dtrain = cgb.Pool(data=X_train, label=y_train, cat_features=cat_cols)\n",
        "        dval = cgb.Pool(data=X_val, label=y_val, cat_features=cat_cols)\n",
        "\n",
        "        class_weights = compute_class_weight('balanced', classes=np.unique(y_train), y=y_train)\n",
        "        params.update({\n",
        "            'class_weights': {k: w for k, w in zip(np.unique(y_train), class_weights)}\n",
        "        })\n",
        "        \n",
        "        bst = cgb.train(\n",
        "                params                = params,\n",
        "                dtrain                = dtrain,\n",
        "                num_boost_round       = 30_000,\n",
        "                early_stopping_rounds = 30,\n",
        "                evals                 = [dtrain, dval],\n",
        "                verbose_eval          = 30\n",
        "            )\n",
        "\n",
        "        score_, iter_ = bst.get_best_score(), bst.get_best_iteration()\n",
        "        test_preds = bst.predict(cgb.Pool(test[feature_names], cat_features=cat_cols))\n",
        "        preds += test_preds\n",
        "    return preds / n_folds"
      ],
      "execution_count": 141,
      "outputs": []
    },
    {
      "cell_type": "code",
      "metadata": {
        "scrolled": false,
        "colab": {
          "base_uri": "https://localhost:8080/"
        },
        "id": "WRG0-k1fxdsF",
        "outputId": "6cc22f9a-1218-48e6-9bdc-251dfa8de7a2"
      },
      "source": [
        "params = config[\"lgb_params\"]\n",
        "params = config[\"xgb_params\"]\n",
        "params = config[\"cgb_params\"]\n",
        "features = cat_cols + con_cols\n",
        "preds_ = run_CGB(params, train, test, features, n_folds=10, seed=21, cat_cols=cat_cols)"
      ],
      "execution_count": null,
      "outputs": [
        {
          "output_type": "stream",
          "text": [
            "Learning rate set to 0.032385\n",
            "0:\tlearn: 0.3720572\ttest: 0.3731085\ttest1: 0.3664107\tbest: 0.3664107 (0)\ttotal: 5.02s\tremaining: 1d 17h 50m 18s\n",
            "30:\tlearn: 0.3777748\ttest: 0.3792758\ttest1: 0.3713552\tbest: 0.3738929 (26)\ttotal: 2m 21s\tremaining: 1d 14h 4m 20s\n",
            "60:\tlearn: 0.3895593\ttest: 0.3896550\ttest1: 0.3820458\tbest: 0.3828393 (51)\ttotal: 4m 33s\tremaining: 1d 13h 16m 50s\n",
            "90:\tlearn: 0.3932838\ttest: 0.3931695\ttest1: 0.3845088\tbest: 0.3850102 (89)\ttotal: 6m 46s\tremaining: 1d 13h 7m 35s\n"
          ],
          "name": "stdout"
        }
      ]
    },
    {
      "cell_type": "code",
      "metadata": {
        "id": "55txGvImxdsJ"
      },
      "source": [
        "final_preds = target_encoder.inverse_transform(np.argmax(preds_, axis=1))\n",
        "\n",
        "test_ids = test[\"ID\"].values\n",
        "df = pd.DataFrame({\"ID\" : test_ids, \"Top-up Month\" : final_preds})\n",
        "df.to_csv(f\"submissions/submission_{datetime.now().strftime('%Y%m%d%H%M%S')}.csv\", index = False)"
      ],
      "execution_count": null,
      "outputs": []
    },
    {
      "cell_type": "code",
      "metadata": {
        "id": "pgKmRKQExdsK",
        "outputId": "9aa68543-f93b-4ddc-c066-7cb03c8e6d18"
      },
      "source": [
        "Counter(final_preds)"
      ],
      "execution_count": null,
      "outputs": [
        {
          "output_type": "execute_result",
          "data": {
            "text/plain": [
              "Counter({'No Top-up Service': 14705,\n",
              "         '24-30 Months': 9,\n",
              "         ' > 48 Months': 26,\n",
              "         '18-24 Months': 3,\n",
              "         '30-36 Months': 1,\n",
              "         '36-48 Months': 1})"
            ]
          },
          "metadata": {
            "tags": []
          },
          "execution_count": 392
        }
      ]
    },
    {
      "cell_type": "code",
      "metadata": {
        "id": "Yuz0IX8UxdsK",
        "outputId": "cdc89170-5e61-42b0-f82f-5f4690f4cbfd"
      },
      "source": [
        "Counter(final_preds)"
      ],
      "execution_count": null,
      "outputs": [
        {
          "output_type": "execute_result",
          "data": {
            "text/plain": [
              "Counter({'No Top-up Service': 14742, ' > 48 Months': 3})"
            ]
          },
          "metadata": {
            "tags": []
          },
          "execution_count": 354
        }
      ]
    },
    {
      "cell_type": "code",
      "metadata": {
        "id": "HIqa-8w_xdsL",
        "outputId": "b4f38be4-2e7b-4e48-c1d1-4f0af45ff369"
      },
      "source": [
        "Counter(target_encoder.inverse_transform(y_test_pred))"
      ],
      "execution_count": null,
      "outputs": [
        {
          "output_type": "execute_result",
          "data": {
            "text/plain": [
              "Counter({'No Top-up Service': 3404,\n",
              "         ' > 48 Months': 3677,\n",
              "         '36-48 Months': 1887,\n",
              "         '24-30 Months': 1364,\n",
              "         '12-18 Months': 2082,\n",
              "         '18-24 Months': 1162,\n",
              "         '30-36 Months': 1169})"
            ]
          },
          "metadata": {
            "tags": []
          },
          "execution_count": 167
        }
      ]
    },
    {
      "cell_type": "code",
      "metadata": {
        "id": "XWyPCIBZxdsL"
      },
      "source": [
        ""
      ],
      "execution_count": null,
      "outputs": []
    }
  ]
}