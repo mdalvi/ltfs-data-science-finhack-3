{
 "cells": [
  {
   "cell_type": "markdown",
   "metadata": {},
   "source": [
    "# Pre-Setup"
   ]
  },
  {
   "cell_type": "code",
   "execution_count": 323,
   "metadata": {},
   "outputs": [],
   "source": [
    "%reload_ext autoreload\n",
    "%autoreload 2\n",
    "%matplotlib inline"
   ]
  },
  {
   "cell_type": "code",
   "execution_count": 411,
   "metadata": {},
   "outputs": [],
   "source": [
    "import os\n",
    "import re\n",
    "import psutil\n",
    "import numpy as np\n",
    "import pandas as pd\n",
    "\n",
    "import matplotlib.pyplot as plt\n",
    "import seaborn as sns\n",
    "sns.set_style(\"whitegrid\", {'axes.grid' : False})\n",
    "\n",
    "from tqdm.notebook import tqdm\n",
    "tqdm.pandas()\n",
    "\n",
    "import featuretools as ft\n",
    "from tabulate import tabulate\n",
    "from collections import Counter\n",
    "\n",
    "import sklearn\n",
    "from sklearn.preprocessing import LabelEncoder\n",
    "from sklearn.utils.class_weight import compute_class_weight\n",
    "from sklearn.ensemble import ExtraTreesClassifier, RandomForestClassifier\n",
    "from sklearn.model_selection import KFold, StratifiedKFold, RepeatedStratifiedKFold, RepeatedKFold\n",
    "\n",
    "import catboost as cgb\n",
    "import xgboost as xgb\n",
    "import lightgbm as lgb"
   ]
  },
  {
   "cell_type": "code",
   "execution_count": 402,
   "metadata": {},
   "outputs": [],
   "source": [
    "assert(sklearn.__version__ == '0.24.0')\n",
    "assert(cgb.__version__ == '0.24')\n",
    "assert(xgb.__version__ == '1.1.0')\n",
    "assert(lgb.__version__ == '2.3.1')"
   ]
  },
  {
   "cell_type": "code",
   "execution_count": 326,
   "metadata": {},
   "outputs": [],
   "source": [
    "from helpers.visualization import plot_countplot\n",
    "from helpers.utils import date_to_integer"
   ]
  },
  {
   "cell_type": "code",
   "execution_count": 327,
   "metadata": {},
   "outputs": [
    {
     "name": "stdout",
     "output_type": "stream",
     "text": [
      "Using 4 CPU Cores...\n"
     ]
    }
   ],
   "source": [
    "print(f\"Using {psutil.cpu_count()} CPU Cores...\")"
   ]
  },
  {
   "cell_type": "code",
   "execution_count": 328,
   "metadata": {},
   "outputs": [],
   "source": [
    "df_train_data = pd.read_pickle('data/Train/train_Data.pkl')\n",
    "df_train_bureau = pd.read_pickle('data/Train/train_bureau.pkl')\n",
    "\n",
    "df_test_data = pd.read_pickle('data/test_Data.pkl')\n",
    "df_test_bureau = pd.read_pickle('data/test_bureau.pkl')"
   ]
  },
  {
   "cell_type": "code",
   "execution_count": 329,
   "metadata": {},
   "outputs": [
    {
     "name": "stdout",
     "output_type": "stream",
     "text": [
      "(128655, 26) (560844, 25) (14745, 25) (64019, 25)\n"
     ]
    }
   ],
   "source": [
    "print(df_train_data.shape, df_train_bureau.shape, df_test_data.shape, df_test_bureau.shape)"
   ]
  },
  {
   "cell_type": "code",
   "execution_count": 330,
   "metadata": {},
   "outputs": [
    {
     "name": "stdout",
     "output_type": "stream",
     "text": [
      "columns not in test data ['Top-up Month']\n",
      "columns not in test bureau []\n"
     ]
    }
   ],
   "source": [
    "print(\"columns not in test data\", [c for c in df_train_data.columns if c not in df_test_data.columns])\n",
    "print(\"columns not in test bureau\", [c for c in df_train_bureau.columns if c not in df_test_bureau.columns])"
   ]
  },
  {
   "cell_type": "code",
   "execution_count": 331,
   "metadata": {},
   "outputs": [],
   "source": [
    "df_train_data['source'] = 'train'\n",
    "df_train_bureau['source'] = 'train'\n",
    "df_test_data['source'] = 'test'\n",
    "df_test_bureau['source'] = 'test'"
   ]
  },
  {
   "cell_type": "code",
   "execution_count": 332,
   "metadata": {},
   "outputs": [],
   "source": [
    "df_all_data = pd.concat([df_train_data, df_test_data], axis=0)\n",
    "df_all_bureau = pd.concat([df_train_bureau, df_test_bureau], axis=0)"
   ]
  },
  {
   "cell_type": "code",
   "execution_count": 333,
   "metadata": {},
   "outputs": [
    {
     "name": "stdout",
     "output_type": "stream",
     "text": [
      "+-------------------+---------+--------------+\n",
      "| Top-up Month      |   Count |   Percentage |\n",
      "|-------------------+---------+--------------|\n",
      "| No Top-up Service |  106677 |        0.829 |\n",
      "| > 48 Months       |    8366 |        0.065 |\n",
      "| 36-48 Months      |    3656 |        0.028 |\n",
      "| 24-30 Months      |    3492 |        0.027 |\n",
      "| 30-36 Months      |    3062 |        0.024 |\n",
      "| 18-24 Months      |    2368 |        0.018 |\n",
      "| 12-18 Months      |    1034 |        0.008 |\n",
      "+-------------------+---------+--------------+\n"
     ]
    },
    {
     "data": {
      "image/png": "[encoded data removed]",
      "text/plain": [
       "<Figure size 432x288 with 1 Axes>"
      ]
     },
     "metadata": {},
     "output_type": "display_data"
    }
   ],
   "source": [
    "plot_classification_target(df_all_data['Top-up Month'])"
   ]
  },
  {
   "cell_type": "markdown",
   "metadata": {},
   "source": [
    "# Model"
   ]
  },
  {
   "cell_type": "code",
   "execution_count": 334,
   "metadata": {},
   "outputs": [],
   "source": [
    "con_cols = [\n",
    "    'Tenure',\n",
    "    'AssetCost',\n",
    "    'AmountFinance',\n",
    "    'DisbursalAmount',\n",
    "    'EMI',\n",
    "    'LTV',\n",
    "    'AGE',\n",
    "    'MonthlyIncome',\n",
    "]\n",
    "\n",
    "cat_cols = [\n",
    "    'Frequency',\n",
    "    'InstlmentMode',\n",
    "    'LoanStatus',\n",
    "    'PaymentMode',\n",
    "    'BranchID',\n",
    "    'Area',\n",
    "    'ManufacturerID',\n",
    "    'SupplierID',\n",
    "    'SEX',\n",
    "    'City',\n",
    "    'State',\n",
    "    'ZiPCODE',\n",
    "]"
   ]
  },
  {
   "cell_type": "code",
   "execution_count": 335,
   "metadata": {},
   "outputs": [],
   "source": [
    "df_all_data[con_cols] = df_all_data[con_cols].replace([np.inf, -np.inf], np.nan)\n",
    "df_all_data[cat_cols] = df_all_data[cat_cols].apply(lambda x: x.astype('category'))"
   ]
  },
  {
   "cell_type": "code",
   "execution_count": 336,
   "metadata": {},
   "outputs": [
    {
     "name": "stdout",
     "output_type": "stream",
     "text": [
      "encoding target...\n"
     ]
    }
   ],
   "source": [
    "print(\"encoding target...\")\n",
    "target_encoder = LabelEncoder()\n",
    "df_all_data.loc[df_all_data['source'] == 'train', 'Top-up Month'] = target_encoder.fit_transform(df_all_data[df_all_data['source'] == 'train']['Top-up Month'])"
   ]
  },
  {
   "cell_type": "code",
   "execution_count": 337,
   "metadata": {},
   "outputs": [
    {
     "name": "stdout",
     "output_type": "stream",
     "text": [
      "encoding date and categorical features...\n"
     ]
    }
   ],
   "source": [
    "print(\"encoding date and categorical features...\")\n",
    "for col in cat_cols:\n",
    "    if col not in ['reservation_id']:\n",
    "        lbl = LabelEncoder()\n",
    "        df_all_data[col] = lbl.fit_transform(df_all_data[col])\n",
    "        \n",
    "for col in ['DisbursalDate', 'MaturityDAte', 'AuthDate']:\n",
    "        df_all_data[col] = df_all_data[col].map(date_to_integer)"
   ]
  },
  {
   "cell_type": "markdown",
   "metadata": {},
   "source": [
    "## Modelling"
   ]
  },
  {
   "cell_type": "code",
   "execution_count": 338,
   "metadata": {},
   "outputs": [],
   "source": [
    "train, test = df_all_data[df_all_data['source'] == 'train'], df_all_data[df_all_data['source'] == 'test']"
   ]
  },
  {
   "cell_type": "code",
   "execution_count": 405,
   "metadata": {},
   "outputs": [],
   "source": [
    "config = dict()\n",
    "config[\"lgb_params\"] = {\n",
    "    \"num_classes\": train['Top-up Month'].unique().size,\n",
    "    \"objective\": \"multiclass\",\n",
    "    \"boosting_type\": \"gbdt\",\n",
    "    \"metric\" : \"multi_logloss\",\n",
    "    \"num_threads\" : psutil.cpu_count()\n",
    "}\n",
    "config[\"xgb_params\"] = {\n",
    "    \"num_class\": train['Top-up Month'].unique().size,\n",
    "    \"objective\": \"multi:softprob\",\n",
    "    \"eval_metric\": \"mlogloss\",\n",
    "    \"nthread\" : psutil.cpu_count()\n",
    "}\n",
    "config[\"cgb_params\"] = {\n",
    "    \"classes_count\": train['Top-up Month'].unique().size,\n",
    "    \"objective\": \"MultiClass\",\n",
    "    \"eval_metric\": \"TotalF1\",\n",
    "    \"thread_count\" : psutil.cpu_count()\n",
    "}"
   ]
  },
  {
   "cell_type": "code",
   "execution_count": 396,
   "metadata": {},
   "outputs": [],
   "source": [
    "def run_LGB(params, train, test, feature_names, n_folds=10, seed=0):\n",
    "    \"\"\"\n",
    "    https://stackoverflow.com/questions/56303572/how-can-i-solve-this-unknown-label-type-error\n",
    "    \"\"\"\n",
    "    skf = KFold(n_splits=n_folds, shuffle=True, random_state=seed)\n",
    "    X, y = train[feature_names], train['Top-up Month'].values.astype('int')\n",
    "\n",
    "    num_classes = np.unique(y).size\n",
    "    preds = np.zeros((test.shape[0], params['num_classes']))\n",
    "\n",
    "    for i, (train_index, test_index) in enumerate(skf.split(X, y)):\n",
    "        X_train, X_val = X.iloc[train_index, :], X.iloc[test_index, :]\n",
    "        y_train, y_val = y[train_index], y[test_index]\n",
    "\n",
    "        dtrain = lgb.Dataset(X_train, y_train)\n",
    "        dval = lgb.Dataset(X_val, y_val, reference=dtrain)\n",
    "\n",
    "        bst = lgb.train(\n",
    "            params=params,\n",
    "            train_set=dtrain,\n",
    "            valid_sets=[dtrain, dval],\n",
    "            valid_names=['train', 'eval'],\n",
    "            num_boost_round=30_000,\n",
    "            verbose_eval=30,\n",
    "            early_stopping_rounds=200\n",
    "        )\n",
    "\n",
    "        score_, iter_ = bst.best_score['eval']['multi_logloss'], bst.best_iteration\n",
    "        test_preds = bst.predict(test[feature_names], num_iteration=iter_)\n",
    "        preds += test_preds\n",
    "    return preds / n_folds"
   ]
  },
  {
   "cell_type": "code",
   "execution_count": 397,
   "metadata": {},
   "outputs": [],
   "source": [
    "def run_XGB(params, train, test, feature_names, n_folds = 10, seed = 0):\n",
    "    skf = KFold(n_splits=n_folds, shuffle=True, random_state=seed)\n",
    "    X, y = train[feature_names], train['Top-up Month'].values.astype('int')\n",
    "    \n",
    "    preds = np.zeros((test.shape[0], params['num_class']))\n",
    "    \n",
    "    for i, (train_index, test_index) in enumerate(skf.split(X, y)):\n",
    "        X_train, X_val = X.iloc[train_index, :], X.iloc[test_index, :]\n",
    "        y_train, y_val = y[train_index], y[test_index]\n",
    "\n",
    "        dtrain = xgb.DMatrix(data=X_train, label=y_train, missing=np.nan)\n",
    "        dval = xgb.DMatrix(data = X_val, label=y_val, missing=np.nan)\n",
    "\n",
    "        bst = xgb.train(\n",
    "                params                = params,\n",
    "                dtrain                = dtrain,\n",
    "                num_boost_round       = 30_000,\n",
    "                early_stopping_rounds = 200,\n",
    "                evals                 = [(dtrain, 'train'), (dval, 'eval')],\n",
    "                verbose_eval          = 30\n",
    "            )\n",
    "\n",
    "        score_, iter_ = bst.best_score, bst.best_iteration\n",
    "        test_preds = bst.predict(xgb.DMatrix(test[feature_names]))\n",
    "        preds += test_preds\n",
    "    return preds / n_folds"
   ]
  },
  {
   "cell_type": "code",
   "execution_count": 419,
   "metadata": {},
   "outputs": [],
   "source": [
    "def run_CGB(params, train, test, feature_names, n_folds = 10, seed=0, cat_cols=None):\n",
    "    skf = KFold(n_splits=n_folds, shuffle=True, random_state=seed)\n",
    "    X, y = train[feature_names], train['Top-up Month'].values.astype('int')\n",
    "    \n",
    "    preds = np.zeros((test.shape[0], params['classes_count']))\n",
    "    \n",
    "    for i, (train_index, test_index) in enumerate(skf.split(X, y)):\n",
    "        X_train, X_val = X.iloc[train_index, :], X.iloc[test_index, :]\n",
    "        y_train, y_val = y[train_index], y[test_index]\n",
    "\n",
    "        dtrain = cgb.Pool(data=X_train, label=y_train, cat_features=cat_cols)\n",
    "        dval = cgb.Pool(data=X_val, label=y_val, cat_features=cat_cols)\n",
    "\n",
    "        class_weights = compute_class_weight('balanced', classes=np.unique(y_train), y=y_train)\n",
    "        params.update({\n",
    "            'class_weights': {k: w for k, w in zip(np.unique(y_train), class_weights)}\n",
    "        })\n",
    "        \n",
    "        bst = cgb.train(\n",
    "                params                = params,\n",
    "                dtrain                = dtrain,\n",
    "                num_boost_round       = 30_000,\n",
    "                early_stopping_rounds = 30,\n",
    "                evals                 = [dtrain, dval],\n",
    "                verbose_eval          = 30\n",
    "            )\n",
    "\n",
    "        score_, iter_ = bst.get_best_score(), bst.get_best_iteration()\n",
    "        test_preds = bst.predict(cgb.Pool(test[feature_names], cat_features=cat_cols))\n",
    "        preds += test_preds\n",
    "    return preds / n_folds"
   ]
  },
  {
   "cell_type": "code",
   "execution_count": 420,
   "metadata": {
    "scrolled": false
   },
   "outputs": [
    {
     "name": "stdout",
     "output_type": "stream",
     "text": [
      "Learning rate set to 0.032385\n",
      "0:\tlearn: 0.3720572\ttest: 0.3731085\ttest1: 0.3664107\tbest: 0.3664107 (0)\ttotal: 2.08s\tremaining: 17h 21m\n",
      "30:\tlearn: 0.3777748\ttest: 0.3792758\ttest1: 0.3713552\tbest: 0.3738929 (26)\ttotal: 1m 4s\tremaining: 17h 21m 23s\n",
      "60:\tlearn: 0.3895593\ttest: 0.3896550\ttest1: 0.3820458\tbest: 0.3828393 (51)\ttotal: 2m 17s\tremaining: 18h 42m 17s\n",
      "90:\tlearn: 0.3932838\ttest: 0.3931695\ttest1: 0.3845088\tbest: 0.3850102 (89)\ttotal: 3m 43s\tremaining: 20h 23m 4s\n",
      "120:\tlearn: 0.3992085\ttest: 0.3979307\ttest1: 0.3838536\tbest: 0.3859669 (114)\ttotal: 4m 58s\tremaining: 20h 27m 54s\n",
      "150:\tlearn: 0.4051029\ttest: 0.4012953\ttest1: 0.3872905\tbest: 0.3884421 (132)\ttotal: 6m 14s\tremaining: 20h 33m 41s\n",
      "180:\tlearn: 0.4101190\ttest: 0.4052989\ttest1: 0.3893093\tbest: 0.3893687 (178)\ttotal: 7m 34s\tremaining: 20h 47m 39s\n",
      "210:\tlearn: 0.4145978\ttest: 0.4080174\ttest1: 0.3898045\tbest: 0.3902735 (181)\ttotal: 9m\tremaining: 21h 12m 9s\n",
      "Stopped by overfitting detector  (30 iterations wait)\n",
      "\n",
      "bestTest = 0.3902735033\n",
      "bestIteration = 181\n",
      "\n",
      "Shrink model to first 182 iterations.\n",
      "Learning rate set to 0.032385\n",
      "0:\tlearn: 0.3780188\ttest: 0.3806421\ttest1: 0.3761975\tbest: 0.3761975 (0)\ttotal: 3.06s\tremaining: 1d 1h 30m 53s\n"
     ]
    },
    {
     "ename": "KeyboardInterrupt",
     "evalue": "",
     "output_type": "error",
     "traceback": [
      "\u001b[1;31m---------------------------------------------------------------------------\u001b[0m",
      "\u001b[1;31mKeyboardInterrupt\u001b[0m                         Traceback (most recent call last)",
      "\u001b[1;32m<ipython-input-420-82219635a7a8>\u001b[0m in \u001b[0;36m<module>\u001b[1;34m\u001b[0m\n\u001b[0;32m      3\u001b[0m \u001b[0mparams\u001b[0m \u001b[1;33m=\u001b[0m \u001b[0mconfig\u001b[0m\u001b[1;33m[\u001b[0m\u001b[1;34m\"cgb_params\"\u001b[0m\u001b[1;33m]\u001b[0m\u001b[1;33m\u001b[0m\u001b[1;33m\u001b[0m\u001b[0m\n\u001b[0;32m      4\u001b[0m \u001b[0mfeatures\u001b[0m \u001b[1;33m=\u001b[0m \u001b[0mcat_cols\u001b[0m \u001b[1;33m+\u001b[0m \u001b[0mcon_cols\u001b[0m\u001b[1;33m\u001b[0m\u001b[1;33m\u001b[0m\u001b[0m\n\u001b[1;32m----> 5\u001b[1;33m \u001b[0mpreds_\u001b[0m \u001b[1;33m=\u001b[0m \u001b[0mrun_CGB\u001b[0m\u001b[1;33m(\u001b[0m\u001b[0mparams\u001b[0m\u001b[1;33m,\u001b[0m \u001b[0mtrain\u001b[0m\u001b[1;33m,\u001b[0m \u001b[0mtest\u001b[0m\u001b[1;33m,\u001b[0m \u001b[0mfeatures\u001b[0m\u001b[1;33m,\u001b[0m \u001b[0mn_folds\u001b[0m\u001b[1;33m=\u001b[0m\u001b[1;36m10\u001b[0m\u001b[1;33m,\u001b[0m \u001b[0mseed\u001b[0m\u001b[1;33m=\u001b[0m\u001b[1;36m21\u001b[0m\u001b[1;33m,\u001b[0m \u001b[0mcat_cols\u001b[0m\u001b[1;33m=\u001b[0m\u001b[0mcat_cols\u001b[0m\u001b[1;33m)\u001b[0m\u001b[1;33m\u001b[0m\u001b[1;33m\u001b[0m\u001b[0m\n\u001b[0m",
      "\u001b[1;32m<ipython-input-419-1763d2c3f5da>\u001b[0m in \u001b[0;36mrun_CGB\u001b[1;34m(params, train, test, feature_names, n_folds, seed, cat_cols)\u001b[0m\n\u001b[0;32m     22\u001b[0m                 \u001b[0mearly_stopping_rounds\u001b[0m \u001b[1;33m=\u001b[0m \u001b[1;36m30\u001b[0m\u001b[1;33m,\u001b[0m\u001b[1;33m\u001b[0m\u001b[1;33m\u001b[0m\u001b[0m\n\u001b[0;32m     23\u001b[0m                 \u001b[0mevals\u001b[0m                 \u001b[1;33m=\u001b[0m \u001b[1;33m[\u001b[0m\u001b[0mdtrain\u001b[0m\u001b[1;33m,\u001b[0m \u001b[0mdval\u001b[0m\u001b[1;33m]\u001b[0m\u001b[1;33m,\u001b[0m\u001b[1;33m\u001b[0m\u001b[1;33m\u001b[0m\u001b[0m\n\u001b[1;32m---> 24\u001b[1;33m                 \u001b[0mverbose_eval\u001b[0m          \u001b[1;33m=\u001b[0m \u001b[1;36m30\u001b[0m\u001b[1;33m\u001b[0m\u001b[1;33m\u001b[0m\u001b[0m\n\u001b[0m\u001b[0;32m     25\u001b[0m             )\n\u001b[0;32m     26\u001b[0m \u001b[1;33m\u001b[0m\u001b[0m\n",
      "\u001b[1;32me:\\Miniconda3\\lib\\site-packages\\catboost\\core.py\u001b[0m in \u001b[0;36mtrain\u001b[1;34m(pool, params, dtrain, logging_level, verbose, iterations, num_boost_round, evals, eval_set, plot, verbose_eval, metric_period, early_stopping_rounds, save_snapshot, snapshot_file, snapshot_interval, init_model)\u001b[0m\n\u001b[0;32m   4993\u001b[0m               \u001b[0mverbose_eval\u001b[0m\u001b[1;33m=\u001b[0m\u001b[0mverbose_eval\u001b[0m\u001b[1;33m,\u001b[0m \u001b[0mmetric_period\u001b[0m\u001b[1;33m=\u001b[0m\u001b[0mmetric_period\u001b[0m\u001b[1;33m,\u001b[0m\u001b[1;33m\u001b[0m\u001b[1;33m\u001b[0m\u001b[0m\n\u001b[0;32m   4994\u001b[0m               \u001b[0mearly_stopping_rounds\u001b[0m\u001b[1;33m=\u001b[0m\u001b[0mearly_stopping_rounds\u001b[0m\u001b[1;33m,\u001b[0m \u001b[0msave_snapshot\u001b[0m\u001b[1;33m=\u001b[0m\u001b[0msave_snapshot\u001b[0m\u001b[1;33m,\u001b[0m\u001b[1;33m\u001b[0m\u001b[1;33m\u001b[0m\u001b[0m\n\u001b[1;32m-> 4995\u001b[1;33m               snapshot_file=snapshot_file, snapshot_interval=snapshot_interval, init_model=init_model)\n\u001b[0m\u001b[0;32m   4996\u001b[0m     \u001b[1;32mreturn\u001b[0m \u001b[0mmodel\u001b[0m\u001b[1;33m\u001b[0m\u001b[1;33m\u001b[0m\u001b[0m\n\u001b[0;32m   4997\u001b[0m \u001b[1;33m\u001b[0m\u001b[0m\n",
      "\u001b[1;32me:\\Miniconda3\\lib\\site-packages\\catboost\\core.py\u001b[0m in \u001b[0;36mfit\u001b[1;34m(self, X, y, cat_features, text_features, embedding_features, pairs, sample_weight, group_id, group_weight, subgroup_id, pairs_weight, baseline, use_best_model, eval_set, verbose, logging_level, plot, column_description, verbose_eval, metric_period, silent, early_stopping_rounds, save_snapshot, snapshot_file, snapshot_interval, init_model)\u001b[0m\n\u001b[0;32m   1931\u001b[0m                          \u001b[0mpairs_weight\u001b[0m\u001b[1;33m,\u001b[0m \u001b[0mbaseline\u001b[0m\u001b[1;33m,\u001b[0m \u001b[0muse_best_model\u001b[0m\u001b[1;33m,\u001b[0m \u001b[0meval_set\u001b[0m\u001b[1;33m,\u001b[0m \u001b[0mverbose\u001b[0m\u001b[1;33m,\u001b[0m \u001b[0mlogging_level\u001b[0m\u001b[1;33m,\u001b[0m \u001b[0mplot\u001b[0m\u001b[1;33m,\u001b[0m\u001b[1;33m\u001b[0m\u001b[1;33m\u001b[0m\u001b[0m\n\u001b[0;32m   1932\u001b[0m                          \u001b[0mcolumn_description\u001b[0m\u001b[1;33m,\u001b[0m \u001b[0mverbose_eval\u001b[0m\u001b[1;33m,\u001b[0m \u001b[0mmetric_period\u001b[0m\u001b[1;33m,\u001b[0m \u001b[0msilent\u001b[0m\u001b[1;33m,\u001b[0m \u001b[0mearly_stopping_rounds\u001b[0m\u001b[1;33m,\u001b[0m\u001b[1;33m\u001b[0m\u001b[1;33m\u001b[0m\u001b[0m\n\u001b[1;32m-> 1933\u001b[1;33m                          save_snapshot, snapshot_file, snapshot_interval, init_model)\n\u001b[0m\u001b[0;32m   1934\u001b[0m \u001b[1;33m\u001b[0m\u001b[0m\n\u001b[0;32m   1935\u001b[0m     \u001b[1;32mdef\u001b[0m \u001b[0m_process_predict_input_data\u001b[0m\u001b[1;33m(\u001b[0m\u001b[0mself\u001b[0m\u001b[1;33m,\u001b[0m \u001b[0mdata\u001b[0m\u001b[1;33m,\u001b[0m \u001b[0mparent_method_name\u001b[0m\u001b[1;33m,\u001b[0m \u001b[0mthread_count\u001b[0m\u001b[1;33m,\u001b[0m \u001b[0mlabel\u001b[0m\u001b[1;33m=\u001b[0m\u001b[1;32mNone\u001b[0m\u001b[1;33m)\u001b[0m\u001b[1;33m:\u001b[0m\u001b[1;33m\u001b[0m\u001b[1;33m\u001b[0m\u001b[0m\n",
      "\u001b[1;32me:\\Miniconda3\\lib\\site-packages\\catboost\\core.py\u001b[0m in \u001b[0;36m_fit\u001b[1;34m(self, X, y, cat_features, text_features, embedding_features, pairs, sample_weight, group_id, group_weight, subgroup_id, pairs_weight, baseline, use_best_model, eval_set, verbose, logging_level, plot, column_description, verbose_eval, metric_period, silent, early_stopping_rounds, save_snapshot, snapshot_file, snapshot_interval, init_model)\u001b[0m\n\u001b[0;32m   1792\u001b[0m                 \u001b[0mparams\u001b[0m\u001b[1;33m,\u001b[0m\u001b[1;33m\u001b[0m\u001b[1;33m\u001b[0m\u001b[0m\n\u001b[0;32m   1793\u001b[0m                 \u001b[0mallow_clear_pool\u001b[0m\u001b[1;33m,\u001b[0m\u001b[1;33m\u001b[0m\u001b[1;33m\u001b[0m\u001b[0m\n\u001b[1;32m-> 1794\u001b[1;33m                 \u001b[0mtrain_params\u001b[0m\u001b[1;33m[\u001b[0m\u001b[1;34m\"init_model\"\u001b[0m\u001b[1;33m]\u001b[0m\u001b[1;33m\u001b[0m\u001b[1;33m\u001b[0m\u001b[0m\n\u001b[0m\u001b[0;32m   1795\u001b[0m             )\n\u001b[0;32m   1796\u001b[0m \u001b[1;33m\u001b[0m\u001b[0m\n",
      "\u001b[1;32me:\\Miniconda3\\lib\\site-packages\\catboost\\core.py\u001b[0m in \u001b[0;36m_train\u001b[1;34m(self, train_pool, test_pool, params, allow_clear_pool, init_model)\u001b[0m\n\u001b[0;32m   1255\u001b[0m \u001b[1;33m\u001b[0m\u001b[0m\n\u001b[0;32m   1256\u001b[0m     \u001b[1;32mdef\u001b[0m \u001b[0m_train\u001b[0m\u001b[1;33m(\u001b[0m\u001b[0mself\u001b[0m\u001b[1;33m,\u001b[0m \u001b[0mtrain_pool\u001b[0m\u001b[1;33m,\u001b[0m \u001b[0mtest_pool\u001b[0m\u001b[1;33m,\u001b[0m \u001b[0mparams\u001b[0m\u001b[1;33m,\u001b[0m \u001b[0mallow_clear_pool\u001b[0m\u001b[1;33m,\u001b[0m \u001b[0minit_model\u001b[0m\u001b[1;33m)\u001b[0m\u001b[1;33m:\u001b[0m\u001b[1;33m\u001b[0m\u001b[1;33m\u001b[0m\u001b[0m\n\u001b[1;32m-> 1257\u001b[1;33m         \u001b[0mself\u001b[0m\u001b[1;33m.\u001b[0m\u001b[0m_object\u001b[0m\u001b[1;33m.\u001b[0m\u001b[0m_train\u001b[0m\u001b[1;33m(\u001b[0m\u001b[0mtrain_pool\u001b[0m\u001b[1;33m,\u001b[0m \u001b[0mtest_pool\u001b[0m\u001b[1;33m,\u001b[0m \u001b[0mparams\u001b[0m\u001b[1;33m,\u001b[0m \u001b[0mallow_clear_pool\u001b[0m\u001b[1;33m,\u001b[0m \u001b[0minit_model\u001b[0m\u001b[1;33m.\u001b[0m\u001b[0m_object\u001b[0m \u001b[1;32mif\u001b[0m \u001b[0minit_model\u001b[0m \u001b[1;32melse\u001b[0m \u001b[1;32mNone\u001b[0m\u001b[1;33m)\u001b[0m\u001b[1;33m\u001b[0m\u001b[1;33m\u001b[0m\u001b[0m\n\u001b[0m\u001b[0;32m   1258\u001b[0m         \u001b[0mself\u001b[0m\u001b[1;33m.\u001b[0m\u001b[0m_set_trained_model_attributes\u001b[0m\u001b[1;33m(\u001b[0m\u001b[1;33m)\u001b[0m\u001b[1;33m\u001b[0m\u001b[1;33m\u001b[0m\u001b[0m\n\u001b[0;32m   1259\u001b[0m \u001b[1;33m\u001b[0m\u001b[0m\n",
      "\u001b[1;32m_catboost.pyx\u001b[0m in \u001b[0;36m_catboost._CatBoost._train\u001b[1;34m()\u001b[0m\n",
      "\u001b[1;32m_catboost.pyx\u001b[0m in \u001b[0;36m_catboost._CatBoost._train\u001b[1;34m()\u001b[0m\n",
      "\u001b[1;31mKeyboardInterrupt\u001b[0m: "
     ]
    }
   ],
   "source": [
    "params = config[\"lgb_params\"]\n",
    "params = config[\"xgb_params\"]\n",
    "params = config[\"cgb_params\"]\n",
    "features = cat_cols + con_cols\n",
    "preds_ = run_CGB(params, train, test, features, n_folds=10, seed=21, cat_cols=cat_cols)"
   ]
  },
  {
   "cell_type": "code",
   "execution_count": 408,
   "metadata": {},
   "outputs": [],
   "source": [
    "final_preds = target_encoder.inverse_transform(np.argmax(preds_, axis=1))\n",
    "\n",
    "test_ids = test[\"ID\"].values\n",
    "df = pd.DataFrame({\"ID\" : test_ids, \"Top-up Month\" : final_preds})\n",
    "df.to_csv(f\"submissions/submission_{datetime.now().strftime('%Y%m%d%H%M%S')}.csv\", index = False)"
   ]
  },
  {
   "cell_type": "code",
   "execution_count": 392,
   "metadata": {},
   "outputs": [
    {
     "data": {
      "text/plain": [
       "Counter({'No Top-up Service': 14705,\n",
       "         '24-30 Months': 9,\n",
       "         ' > 48 Months': 26,\n",
       "         '18-24 Months': 3,\n",
       "         '30-36 Months': 1,\n",
       "         '36-48 Months': 1})"
      ]
     },
     "execution_count": 392,
     "metadata": {},
     "output_type": "execute_result"
    }
   ],
   "source": [
    "Counter(final_preds)"
   ]
  },
  {
   "cell_type": "code",
   "execution_count": 354,
   "metadata": {},
   "outputs": [
    {
     "data": {
      "text/plain": [
       "Counter({'No Top-up Service': 14742, ' > 48 Months': 3})"
      ]
     },
     "execution_count": 354,
     "metadata": {},
     "output_type": "execute_result"
    }
   ],
   "source": [
    "Counter(final_preds)"
   ]
  },
  {
   "cell_type": "code",
   "execution_count": 167,
   "metadata": {},
   "outputs": [
    {
     "data": {
      "text/plain": [
       "Counter({'No Top-up Service': 3404,\n",
       "         ' > 48 Months': 3677,\n",
       "         '36-48 Months': 1887,\n",
       "         '24-30 Months': 1364,\n",
       "         '12-18 Months': 2082,\n",
       "         '18-24 Months': 1162,\n",
       "         '30-36 Months': 1169})"
      ]
     },
     "execution_count": 167,
     "metadata": {},
     "output_type": "execute_result"
    }
   ],
   "source": [
    "Counter(target_encoder.inverse_transform(y_test_pred))"
   ]
  },
  {
   "cell_type": "code",
   "execution_count": null,
   "metadata": {},
   "outputs": [],
   "source": []
  }
 ],
 "metadata": {
  "kernelspec": {
   "display_name": "Python 3",
   "language": "python",
   "name": "python3"
  },
  "language_info": {
   "codemirror_mode": {
    "name": "ipython",
    "version": 3
   },
   "file_extension": ".py",
   "mimetype": "text/x-python",
   "name": "python",
   "nbconvert_exporter": "python",
   "pygments_lexer": "ipython3",
   "version": "3.7.6"
  }
 },
 "nbformat": 4,
 "nbformat_minor": 4
}
